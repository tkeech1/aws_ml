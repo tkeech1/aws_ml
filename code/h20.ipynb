{
 "cells": [
  {
   "cell_type": "code",
   "execution_count": null,
   "metadata": {},
   "outputs": [],
   "source": [
    "#https://www.kdnuggets.com/2020/01/h2o-framework-machine-learning.html"
   ]
  },
  {
   "cell_type": "code",
   "execution_count": null,
   "metadata": {},
   "outputs": [],
   "source": [
    "import pandas as pd\n",
    "import numpy as np\n",
    "import h2o\n",
    "import featuretools as ft\n",
    "pd.set_option('display.width', 5000)"
   ]
  },
  {
   "cell_type": "code",
   "execution_count": null,
   "metadata": {},
   "outputs": [],
   "source": [
    "h2o.init()"
   ]
  },
  {
   "cell_type": "code",
   "execution_count": null,
   "metadata": {},
   "outputs": [],
   "source": [
    "bank_df = h2o.upload_file(\"../data/bank-additional-full.csv\")"
   ]
  },
  {
   "cell_type": "code",
   "execution_count": null,
   "metadata": {},
   "outputs": [],
   "source": [
    "bank_df.head()"
   ]
  },
  {
   "cell_type": "code",
   "execution_count": null,
   "metadata": {},
   "outputs": [],
   "source": [
    "# show 6th row\n",
    "print(bank_df[5,:])"
   ]
  },
  {
   "cell_type": "code",
   "execution_count": null,
   "metadata": {},
   "outputs": [],
   "source": [
    "# In the next cell we extract the names of columns into the variable x. \n",
    "# Then, we remove the name of the target column (y) from this \n",
    "# list. Also, we write the name of the target variable in the \n",
    "# variable y.\n",
    "x = bank_df.names\n",
    "x.remove(\"y\")\n",
    "print(x)\n",
    "Y = \"y\""
   ]
  },
  {
   "cell_type": "code",
   "execution_count": null,
   "metadata": {},
   "outputs": [],
   "source": [
    "train, test = bank_df.split_frame([0.7], seed=42)"
   ]
  },
  {
   "cell_type": "code",
   "execution_count": null,
   "metadata": {},
   "outputs": [],
   "source": [
    "from h2o.estimators import H2ORandomForestEstimator"
   ]
  },
  {
   "cell_type": "code",
   "execution_count": null,
   "metadata": {},
   "outputs": [],
   "source": [
    "rf = H2ORandomForestEstimator(ntrees=200)\n",
    "rf.train(x=x,\n",
    "         y=Y,\n",
    "         training_frame=train,\n",
    "         validation_frame=test)"
   ]
  },
  {
   "cell_type": "code",
   "execution_count": null,
   "metadata": {},
   "outputs": [],
   "source": [
    "print(rf)"
   ]
  },
  {
   "cell_type": "code",
   "execution_count": null,
   "metadata": {},
   "outputs": [],
   "source": [
    "#manually compute the accuracy on the test set.\n",
    "predictions_rf = rf.predict(test)\n",
    "(predictions_rf[\"predict\"] == test[\"y\"]).mean()"
   ]
  },
  {
   "cell_type": "code",
   "execution_count": null,
   "metadata": {},
   "outputs": [],
   "source": [
    "from h2o.estimators.deeplearning import H2ODeepLearningEstimator\n",
    "dl = H2ODeepLearningEstimator(hidden=[100, 10, 4],activation='Tanh')\n",
    "dl.train(x=x, y=Y, training_frame=train, validation_frame=test)\n",
    "predictions_dl = dl.predict(test)\n",
    "print((predictions_dl[\"predict\"] == test[\"y\"]).mean())"
   ]
  },
  {
   "cell_type": "code",
   "execution_count": null,
   "metadata": {},
   "outputs": [],
   "source": [
    "print (dl)"
   ]
  },
  {
   "cell_type": "code",
   "execution_count": null,
   "metadata": {},
   "outputs": [],
   "source": [
    "from h2o.estimators.gbm import H2OGradientBoostingEstimator\n",
    "gb = H2OGradientBoostingEstimator()\n",
    "gb.train(x=x,\n",
    "         y=Y,\n",
    "         training_frame=train,\n",
    "         validation_frame=test)"
   ]
  },
  {
   "cell_type": "code",
   "execution_count": null,
   "metadata": {},
   "outputs": [],
   "source": [
    "print(gb)"
   ]
  },
  {
   "cell_type": "code",
   "execution_count": null,
   "metadata": {},
   "outputs": [],
   "source": [
    "# XGBoost\n",
    "from h2o.estimators.xgboost import H2OXGBoostEstimator\n",
    "#param = {\n",
    "#         \"ntrees\" : 400,\n",
    "#         \"max_depth\" : 4,\n",
    "#         \"learn_rate\" : 0.01,\n",
    "#         \"sample_rate\" : 0.4,\n",
    "#         \"col_sample_rate_per_tree\" : 0.8,\n",
    "#         \"min_rows\" : 5,\n",
    "#         \"seed\": 4241,\n",
    "#         \"score_tree_interval\": 100\n",
    "#         }\n",
    "xgb = H2OXGBoostEstimator(nfolds=10, seed=1)\n",
    "xgb.train(x=x, y=Y, training_frame=train,\n",
    "         validation_frame=test)\n",
    "#predictions_xgb = xgb.predict(test)\n",
    "#print((predictions_xgb[\"predict\"] == test[\"y\"]).mean())"
   ]
  },
  {
   "cell_type": "code",
   "execution_count": null,
   "metadata": {},
   "outputs": [],
   "source": [
    "predictions_xgb = xgb.predict(test)\n",
    "(predictions_xgb[\"predict\"] == test[\"y\"]).mean()"
   ]
  },
  {
   "cell_type": "code",
   "execution_count": null,
   "metadata": {},
   "outputs": [],
   "source": [
    "print(xgb)"
   ]
  },
  {
   "cell_type": "code",
   "execution_count": null,
   "metadata": {},
   "outputs": [],
   "source": [
    "# Cross Validation\n",
    "rf_cv = H2ORandomForestEstimator(ntrees=200, nfolds=3)\n",
    "rf_cv.train(x=x, y=Y, training_frame=bank_df)\n",
    "print(rf_cv)"
   ]
  },
  {
   "cell_type": "code",
   "execution_count": null,
   "metadata": {},
   "outputs": [],
   "source": [
    "# Grid Search\n",
    "from h2o.grid.grid_search import H2OGridSearch\n",
    "\n",
    "xgb_parameters = {'max_depth': [3, 6],\n",
    "                  'sample_rate': [0.4, 0.7],\n",
    "                  'col_sample_rate': [0.8, 1.0],\n",
    "                  'ntrees': [200, 300]}\n",
    "\n",
    "xgb_grid_search = H2OGridSearch(model=H2OXGBoostEstimator,\n",
    "                                grid_id='example_grid',\n",
    "                                hyper_params=xgb_parameters)\n",
    "\n",
    "xgb_grid_search.train(x=x,\n",
    "                      y=Y,\n",
    "                      training_frame=train,\n",
    "                      validation_frame=test,\n",
    "                      learn_rate=0.3,\n",
    "                      seed=42)\n",
    "\n",
    "grid_results = xgb_grid_search.get_grid(sort_by='accuracy',\n",
    "                                        decreasing=True)\n",
    "print(grid_results)"
   ]
  },
  {
   "cell_type": "code",
   "execution_count": null,
   "metadata": {},
   "outputs": [],
   "source": [
    "# Auto ML\n",
    "\n",
    "from h2o.automl import H2OAutoML\n",
    "autoML = H2OAutoML(max_runtime_secs=240)\n",
    "autoML.train(x=x,\n",
    "             y=Y,\n",
    "             training_frame=train)\n",
    "\n",
    "leaderboard = autoML.leaderboard\n",
    "print(leaderboard)"
   ]
  },
  {
   "cell_type": "code",
   "execution_count": null,
   "metadata": {},
   "outputs": [],
   "source": [
    "autoML.leader"
   ]
  },
  {
   "cell_type": "code",
   "execution_count": null,
   "metadata": {},
   "outputs": [],
   "source": [
    "predictionAML = autoML.predict(test)\n",
    "print(predictionAML)"
   ]
  },
  {
   "cell_type": "code",
   "execution_count": null,
   "metadata": {},
   "outputs": [],
   "source": []
  }
 ],
 "metadata": {
  "kernelspec": {
   "display_name": "Python 3",
   "language": "python",
   "name": "python3"
  },
  "language_info": {
   "codemirror_mode": {
    "name": "ipython",
    "version": 3
   },
   "file_extension": ".py",
   "mimetype": "text/x-python",
   "name": "python",
   "nbconvert_exporter": "python",
   "pygments_lexer": "ipython3",
   "version": "3.6.8"
  }
 },
 "nbformat": 4,
 "nbformat_minor": 4
}
