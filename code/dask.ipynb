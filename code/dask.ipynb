{
 "cells": [
  {
   "cell_type": "code",
   "execution_count": null,
   "metadata": {},
   "outputs": [],
   "source": [
    "# https://www.analyticsvidhya.com/blog/2018/08/dask-big-datasets-machine_learning-python/"
   ]
  },
  {
   "cell_type": "code",
   "execution_count": null,
   "metadata": {},
   "outputs": [],
   "source": [
    "import dask.dataframe as dd\n",
    "\n",
    "column_types = {\n",
    "    'nr.employed': 'float64'\n",
    "}\n",
    "\n",
    "%time df = dd.read_csv(\"../data/bank-additional-full.csv\", delimiter=\";\", dtype=column_types)\n",
    "\n"
   ]
  },
  {
   "cell_type": "code",
   "execution_count": null,
   "metadata": {},
   "outputs": [],
   "source": [
    "df.select_dtypes(include=['object']).columns.values"
   ]
  },
  {
   "cell_type": "code",
   "execution_count": null,
   "metadata": {},
   "outputs": [],
   "source": [
    "# encode object columns for training\n",
    "from sklearn.preprocessing import LabelEncoder\n",
    "\n",
    "columns_to_encode = df.select_dtypes(include=['object']).columns.values\n",
    "\n",
    "for col in columns_to_encode:\n",
    "    labelEncodedSeries = dd.from_array(LabelEncoder().fit_transform(df[col]))\n",
    "    df = df.drop(col, axis=1)\n",
    "    df = df.merge(labelEncodedSeries.to_frame())\n",
    "    df = df.rename(columns={0:col})\n",
    "    \n",
    "print(df.columns)\n",
    "df.head()"
   ]
  },
  {
   "cell_type": "code",
   "execution_count": null,
   "metadata": {},
   "outputs": [],
   "source": [
    "import pandas as pd\n",
    "%time temp = pd.read_csv(\"../data/bank-additional-full.csv\", delimiter=\";\")"
   ]
  },
  {
   "cell_type": "code",
   "execution_count": null,
   "metadata": {},
   "outputs": [],
   "source": [
    "temp.head()"
   ]
  },
  {
   "cell_type": "code",
   "execution_count": null,
   "metadata": {},
   "outputs": [],
   "source": [
    "df.groupby(df.job).age.mean().compute()"
   ]
  },
  {
   "cell_type": "code",
   "execution_count": null,
   "metadata": {},
   "outputs": [],
   "source": [
    "# train test split\n",
    "import pandas as pd\n",
    "import numpy as np\n",
    "from sklearn.model_selection import train_test_split\n",
    "\n",
    "X_train, X_test, y_train, y_test = train_test_split(df.iloc[:,:-1].values.compute(),\n",
    "   df['y'].compute(),\n",
    "   test_size = 0.4,\n",
    "   random_state = 123)"
   ]
  },
  {
   "cell_type": "code",
   "execution_count": null,
   "metadata": {},
   "outputs": [],
   "source": [
    "# train parallel with dask\n",
    "from sklearn.externals.joblib import parallel_backend\n",
    "from dask.distributed import Client \n",
    "from sklearn.ensemble import RandomForestClassifier\n",
    "client = Client() # start a local Dask client\n",
    "\n",
    "with parallel_backend('dask'):\n",
    "    # Your normal scikit-learn code here    \n",
    "    clf = RandomForestClassifier(max_depth=2, random_state=0)\n",
    "    %time clf.fit(X_train,y_train)"
   ]
  },
  {
   "cell_type": "code",
   "execution_count": null,
   "metadata": {},
   "outputs": [],
   "source": [
    "# train with sklearn\n",
    "clf = RandomForestClassifier(max_depth=2, random_state=0, n_jobs=-1)\n",
    "%time clf.fit(X_train,y_train)"
   ]
  },
  {
   "cell_type": "code",
   "execution_count": null,
   "metadata": {},
   "outputs": [],
   "source": []
  }
 ],
 "metadata": {
  "kernelspec": {
   "display_name": "Python 3",
   "language": "python",
   "name": "python3"
  },
  "language_info": {
   "codemirror_mode": {
    "name": "ipython",
    "version": 3
   },
   "file_extension": ".py",
   "mimetype": "text/x-python",
   "name": "python",
   "nbconvert_exporter": "python",
   "pygments_lexer": "ipython3",
   "version": "3.6.8"
  }
 },
 "nbformat": 4,
 "nbformat_minor": 4
}
