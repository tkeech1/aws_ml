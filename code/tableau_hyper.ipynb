{
 "cells": [
  {
   "cell_type": "code",
   "execution_count": null,
   "id": "undefined-monroe",
   "metadata": {},
   "outputs": [],
   "source": [
    "import pandas as pd\n",
    "import pantab\n",
    " \n",
    "df = pd.DataFrame(\n",
    "  [\n",
    "      [1, 2],\n",
    "      [3, 4]\n",
    "      #[1, 2, 3, 4., 5., True, pd.to_datetime('1/1/18'), 'foo'],\n",
    "      #[6, 7, 8, 9., 10., True, pd.to_datetime('1/1/19'), 'foo']\n",
    "  ], columns=['foo', 'bar']) #, 'baz', 'qux', 'quux', 'quuuz', 'corge', 'garply'])"
   ]
  },
  {
   "cell_type": "code",
   "execution_count": null,
   "id": "controlled-magazine",
   "metadata": {},
   "outputs": [],
   "source": [
    "df"
   ]
  },
  {
   "cell_type": "code",
   "execution_count": null,
   "id": "still-recognition",
   "metadata": {},
   "outputs": [],
   "source": [
    "pantab.frame_to_hyper(df, \"foo.hyper\", table=\"the_table\")"
   ]
  },
  {
   "cell_type": "code",
   "execution_count": null,
   "id": "cleared-corpus",
   "metadata": {},
   "outputs": [],
   "source": [
    "import pantab\n",
    "df = pantab.frame_from_hyper(\"foo.hyper\", table=\"the_table\")"
   ]
  },
  {
   "cell_type": "code",
   "execution_count": null,
   "id": "incorporated-round",
   "metadata": {},
   "outputs": [],
   "source": [
    "df.head()"
   ]
  },
  {
   "cell_type": "code",
   "execution_count": null,
   "id": "regulation-boring",
   "metadata": {},
   "outputs": [],
   "source": []
  },
  {
   "cell_type": "code",
   "execution_count": null,
   "id": "charming-smoke",
   "metadata": {},
   "outputs": [],
   "source": [
    "from tableauhyperapi import HyperProcess, Telemetry, Connection, CreateMode, NOT_NULLABLE, NULLABLE, SqlType, \\\n",
    "TableDefinition, Inserter, escape_name, escape_string_literal, HyperException, TableName"
   ]
  },
  {
   "cell_type": "code",
   "execution_count": null,
   "id": "lesser-constitution",
   "metadata": {},
   "outputs": [],
   "source": [
    "with HyperProcess(telemetry=Telemetry.DO_NOT_SEND_USAGE_DATA_TO_TABLEAU) as hyper:\n",
    "    with Connection(hyper.endpoint, 'TrivialExample.hyper', CreateMode.CREATE_AND_REPLACE) as connection:\n",
    "        \n",
    "        connection.catalog.create_schema('Extract')\n",
    "        \n",
    "        example_table = TableDefinition( TableName('Extract','Extract'), [\n",
    "            TableDefinition.Column('rowID', SqlType.big_int()),\n",
    "            TableDefinition.Column('value', SqlType.big_int()),\n",
    "        ])\n",
    "        connection.catalog.create_table(example_table)\n",
    "        \n",
    "        with Inserter(connection, example_table) as inserter:\n",
    "            #for i in range (1, 10):\n",
    "            #    inserter.add_row(\n",
    "            #        [ i, i ]\n",
    "            #    )\n",
    "            for row in df.values.tolist():\n",
    "                inserter.add_row(row)\n",
    "            inserter.execute()\n",
    "        \n",
    "    #  Connect to an existing .hyper file (CreateMode.NONE)\n",
    "    with Connection(endpoint=hyper.endpoint, database='TrivialExample.hyper') as connection:        \n",
    "        with connection.execute_query(query=f\"SELECT * FROM {TableName('Extract', 'Extract')}\") as result:\n",
    "            rows = list(result)\n",
    "            print(rows)"
   ]
  },
  {
   "cell_type": "code",
   "execution_count": null,
   "id": "european-campus",
   "metadata": {},
   "outputs": [],
   "source": []
  }
 ],
 "metadata": {
  "kernelspec": {
   "display_name": "Python 3",
   "language": "python",
   "name": "python3"
  },
  "language_info": {
   "codemirror_mode": {
    "name": "ipython",
    "version": 3
   },
   "file_extension": ".py",
   "mimetype": "text/x-python",
   "name": "python",
   "nbconvert_exporter": "python",
   "pygments_lexer": "ipython3",
   "version": "3.6.8"
  }
 },
 "nbformat": 4,
 "nbformat_minor": 5
}
