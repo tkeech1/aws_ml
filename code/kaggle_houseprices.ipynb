{
 "cells": [
  {
   "cell_type": "code",
   "execution_count": null,
   "metadata": {},
   "outputs": [],
   "source": [
    "# https://www.kaggle.com/c/house-prices-advanced-regression-techniques/data"
   ]
  },
  {
   "cell_type": "code",
   "execution_count": 3,
   "metadata": {},
   "outputs": [],
   "source": [
    "import pandas as pd\n",
    "import numpy as np\n",
    "pd.set_option('display.width', 5000)"
   ]
  },
  {
   "cell_type": "code",
   "execution_count": 4,
   "metadata": {},
   "outputs": [],
   "source": [
    "col_dtypes = {\n",
    "    #'client_id': np.int64,\n",
    "    #'loan_type': str\n",
    "}\n",
    "#dateparse = lambda x: pd.datetime.strptime(x, '%Y-%m-%d')\n",
    "\n",
    "train = pd.read_csv(\"../data/house-prices/train.csv\",delimiter=\",\")\n",
    "sub = pd.read_csv(\"../data/house-prices/test.csv\",delimiter=\",\")#,parse_dates=['loan_start','loan_end'], date_parser=dateparse, dtype=loans_dtypes)"
   ]
  },
  {
   "cell_type": "code",
   "execution_count": 12,
   "metadata": {},
   "outputs": [
    {
     "name": "stdout",
     "output_type": "stream",
     "text": [
      "<class 'pandas.core.frame.DataFrame'>\n",
      "RangeIndex: 1460 entries, 0 to 1459\n",
      "Data columns (total 82 columns):\n",
      "Id               1460 non-null int64\n",
      "MSSubClass       1460 non-null int64\n",
      "MSZoning         1460 non-null category\n",
      "LotFrontage      1201 non-null float64\n",
      "LotArea          1460 non-null int64\n",
      "Street           1460 non-null category\n",
      "Alley            91 non-null category\n",
      "LotShape         1460 non-null category\n",
      "LandContour      1460 non-null category\n",
      "Utilities        1460 non-null category\n",
      "LotConfig        1460 non-null category\n",
      "LandSlope        1460 non-null category\n",
      "Neighborhood     1460 non-null category\n",
      "Condition1       1460 non-null category\n",
      "Condition2       1460 non-null category\n",
      "BldgType         1460 non-null category\n",
      "HouseStyle       1460 non-null category\n",
      "OverallQual      1460 non-null int64\n",
      "OverallCond      1460 non-null int64\n",
      "YearBuilt        1460 non-null int64\n",
      "YearRemodAdd     1460 non-null int64\n",
      "RoofStyle        1460 non-null category\n",
      "RoofMatl         1460 non-null category\n",
      "Exterior1st      1460 non-null category\n",
      "Exterior2nd      1460 non-null category\n",
      "MasVnrType       1452 non-null category\n",
      "MasVnrArea       1452 non-null float64\n",
      "ExterQual        1460 non-null category\n",
      "ExterCond        1460 non-null category\n",
      "Foundation       1460 non-null category\n",
      "BsmtQual         1423 non-null category\n",
      "BsmtCond         1423 non-null category\n",
      "BsmtExposure     1422 non-null category\n",
      "BsmtFinType1     1423 non-null category\n",
      "BsmtFinSF1       1460 non-null int64\n",
      "BsmtFinType2     1422 non-null category\n",
      "BsmtFinSF2       1460 non-null int64\n",
      "BsmtUnfSF        1460 non-null int64\n",
      "TotalBsmtSF      1460 non-null int64\n",
      "Heating          1460 non-null category\n",
      "HeatingQC        1460 non-null category\n",
      "CentralAir       1460 non-null category\n",
      "Electrical       1459 non-null category\n",
      "1stFlrSF         1460 non-null int64\n",
      "2ndFlrSF         1460 non-null int64\n",
      "LowQualFinSF     1460 non-null int64\n",
      "GrLivArea        1460 non-null int64\n",
      "BsmtFullBath     1460 non-null int64\n",
      "BsmtHalfBath     1460 non-null int64\n",
      "FullBath         1460 non-null int64\n",
      "HalfBath         1460 non-null int64\n",
      "BedroomAbvGr     1460 non-null int64\n",
      "KitchenAbvGr     1460 non-null int64\n",
      "KitchenQual      1460 non-null category\n",
      "TotRmsAbvGrd     1460 non-null int64\n",
      "Functional       1460 non-null category\n",
      "Fireplaces       1460 non-null int64\n",
      "FireplaceQu      770 non-null category\n",
      "GarageType       1379 non-null category\n",
      "GarageYrBlt      1379 non-null float64\n",
      "GarageFinish     1379 non-null category\n",
      "GarageCars       1460 non-null int64\n",
      "GarageArea       1460 non-null int64\n",
      "GarageQual       1379 non-null category\n",
      "GarageCond       1379 non-null category\n",
      "PavedDrive       1460 non-null category\n",
      "WoodDeckSF       1460 non-null int64\n",
      "OpenPorchSF      1460 non-null int64\n",
      "EnclosedPorch    1460 non-null int64\n",
      "3SsnPorch        1460 non-null int64\n",
      "ScreenPorch      1460 non-null int64\n",
      "PoolArea         1460 non-null int64\n",
      "PoolQC           7 non-null category\n",
      "Fence            281 non-null category\n",
      "MiscFeature      54 non-null category\n",
      "MiscVal          1460 non-null int64\n",
      "MoSold           1460 non-null int64\n",
      "YrSold           1460 non-null int64\n",
      "SaleType         1460 non-null category\n",
      "SaleCondition    1460 non-null category\n",
      "SalePrice        1460 non-null int64\n",
      "LogSalePrice     1460 non-null float64\n",
      "dtypes: category(43), float64(4), int64(35)\n",
      "memory usage: 529.9 KB\n"
     ]
    }
   ],
   "source": [
    "train.info(memory_usage='deep')"
   ]
  },
  {
   "cell_type": "code",
   "execution_count": 7,
   "metadata": {},
   "outputs": [],
   "source": [
    "train_obj = train.select_dtypes(include=['object']).copy()\n",
    "converted_obj = pd.DataFrame()\n",
    "for col in train_obj.columns:\n",
    "    num_unique_values = len(train_obj[col].unique())\n",
    "    num_total_values = len(train_obj[col])\n",
    "    if num_unique_values / num_total_values < 0.5:\n",
    "        converted_obj.loc[:,col] = train_obj[col].astype('category')\n",
    "    else:\n",
    "        converted_obj.loc[:,col] = train_obj[col]\n",
    "        \n"
   ]
  },
  {
   "cell_type": "code",
   "execution_count": 9,
   "metadata": {},
   "outputs": [
    {
     "name": "stdout",
     "output_type": "stream",
     "text": [
      "<class 'pandas.core.frame.DataFrame'>\n",
      "RangeIndex: 1460 entries, 0 to 1459\n",
      "Data columns (total 43 columns):\n",
      "MSZoning         1460 non-null category\n",
      "Street           1460 non-null category\n",
      "Alley            91 non-null category\n",
      "LotShape         1460 non-null category\n",
      "LandContour      1460 non-null category\n",
      "Utilities        1460 non-null category\n",
      "LotConfig        1460 non-null category\n",
      "LandSlope        1460 non-null category\n",
      "Neighborhood     1460 non-null category\n",
      "Condition1       1460 non-null category\n",
      "Condition2       1460 non-null category\n",
      "BldgType         1460 non-null category\n",
      "HouseStyle       1460 non-null category\n",
      "RoofStyle        1460 non-null category\n",
      "RoofMatl         1460 non-null category\n",
      "Exterior1st      1460 non-null category\n",
      "Exterior2nd      1460 non-null category\n",
      "MasVnrType       1452 non-null category\n",
      "ExterQual        1460 non-null category\n",
      "ExterCond        1460 non-null category\n",
      "Foundation       1460 non-null category\n",
      "BsmtQual         1423 non-null category\n",
      "BsmtCond         1423 non-null category\n",
      "BsmtExposure     1422 non-null category\n",
      "BsmtFinType1     1423 non-null category\n",
      "BsmtFinType2     1422 non-null category\n",
      "Heating          1460 non-null category\n",
      "HeatingQC        1460 non-null category\n",
      "CentralAir       1460 non-null category\n",
      "Electrical       1459 non-null category\n",
      "KitchenQual      1460 non-null category\n",
      "Functional       1460 non-null category\n",
      "FireplaceQu      770 non-null category\n",
      "GarageType       1379 non-null category\n",
      "GarageFinish     1379 non-null category\n",
      "GarageQual       1379 non-null category\n",
      "GarageCond       1379 non-null category\n",
      "PavedDrive       1460 non-null category\n",
      "PoolQC           7 non-null category\n",
      "Fence            281 non-null category\n",
      "MiscFeature      54 non-null category\n",
      "SaleType         1460 non-null category\n",
      "SaleCondition    1460 non-null category\n",
      "dtypes: category(43)\n",
      "memory usage: 85.0 KB\n"
     ]
    }
   ],
   "source": [
    "converted_obj.info(memory_usage='deep')"
   ]
  },
  {
   "cell_type": "code",
   "execution_count": 11,
   "metadata": {},
   "outputs": [],
   "source": [
    "train[converted_obj.columns] = converted_obj"
   ]
  },
  {
   "cell_type": "code",
   "execution_count": 13,
   "metadata": {},
   "outputs": [],
   "source": [
    "train['LogSalePrice'] = np.log(train[\"SalePrice\"])"
   ]
  },
  {
   "cell_type": "code",
   "execution_count": 14,
   "metadata": {},
   "outputs": [
    {
     "data": {
      "text/plain": [
       "0    12.247694\n",
       "1    12.109011\n",
       "2    12.317167\n",
       "3    11.849398\n",
       "4    12.429216\n",
       "Name: LogSalePrice, dtype: float64"
      ]
     },
     "execution_count": 14,
     "metadata": {},
     "output_type": "execute_result"
    }
   ],
   "source": [
    "train['LogSalePrice'].head()"
   ]
  },
  {
   "cell_type": "code",
   "execution_count": 15,
   "metadata": {},
   "outputs": [
    {
     "name": "stdout",
     "output_type": "stream",
     "text": [
      "Checking whether there is an H2O instance running at http://localhost:54321 ..... not found.\n",
      "Attempting to start a local H2O server...\n",
      "  Java Version: openjdk version \"1.8.0_232\"; OpenJDK Runtime Environment (build 1.8.0_232-8u232-b09-0ubuntu1~18.04.1-b09); OpenJDK 64-Bit Server VM (build 25.232-b09, mixed mode)\n",
      "  Starting server from /home/tk/.local/lib/python3.6/site-packages/h2o/backend/bin/h2o.jar\n",
      "  Ice root: /tmp/tmpkg_d3yu9\n",
      "  JVM stdout: /tmp/tmpkg_d3yu9/h2o_unknownUser_started_from_python.out\n",
      "  JVM stderr: /tmp/tmpkg_d3yu9/h2o_unknownUser_started_from_python.err\n",
      "  Server is running at http://127.0.0.1:54321\n",
      "Connecting to H2O server at http://127.0.0.1:54321 ... successful.\n"
     ]
    },
    {
     "data": {
      "text/html": [
       "<div style=\"overflow:auto\"><table style=\"width:50%\"><tr><td>H2O cluster uptime:</td>\n",
       "<td>01 secs</td></tr>\n",
       "<tr><td>H2O cluster timezone:</td>\n",
       "<td>Etc/GMT</td></tr>\n",
       "<tr><td>H2O data parsing timezone:</td>\n",
       "<td>UTC</td></tr>\n",
       "<tr><td>H2O cluster version:</td>\n",
       "<td>3.28.0.2</td></tr>\n",
       "<tr><td>H2O cluster version age:</td>\n",
       "<td>8 days </td></tr>\n",
       "<tr><td>H2O cluster name:</td>\n",
       "<td>H2O_from_python_unknownUser_ar0v11</td></tr>\n",
       "<tr><td>H2O cluster total nodes:</td>\n",
       "<td>1</td></tr>\n",
       "<tr><td>H2O cluster free memory:</td>\n",
       "<td>3.417 Gb</td></tr>\n",
       "<tr><td>H2O cluster total cores:</td>\n",
       "<td>12</td></tr>\n",
       "<tr><td>H2O cluster allowed cores:</td>\n",
       "<td>12</td></tr>\n",
       "<tr><td>H2O cluster status:</td>\n",
       "<td>accepting new members, healthy</td></tr>\n",
       "<tr><td>H2O connection url:</td>\n",
       "<td>http://127.0.0.1:54321</td></tr>\n",
       "<tr><td>H2O connection proxy:</td>\n",
       "<td>{'http': None, 'https': None}</td></tr>\n",
       "<tr><td>H2O internal security:</td>\n",
       "<td>False</td></tr>\n",
       "<tr><td>H2O API Extensions:</td>\n",
       "<td>Amazon S3, XGBoost, Algos, AutoML, Core V3, TargetEncoder, Core V4</td></tr>\n",
       "<tr><td>Python version:</td>\n",
       "<td>3.6.8 final</td></tr></table></div>"
      ],
      "text/plain": [
       "--------------------------  ------------------------------------------------------------------\n",
       "H2O cluster uptime:         01 secs\n",
       "H2O cluster timezone:       Etc/GMT\n",
       "H2O data parsing timezone:  UTC\n",
       "H2O cluster version:        3.28.0.2\n",
       "H2O cluster version age:    8 days\n",
       "H2O cluster name:           H2O_from_python_unknownUser_ar0v11\n",
       "H2O cluster total nodes:    1\n",
       "H2O cluster free memory:    3.417 Gb\n",
       "H2O cluster total cores:    12\n",
       "H2O cluster allowed cores:  12\n",
       "H2O cluster status:         accepting new members, healthy\n",
       "H2O connection url:         http://127.0.0.1:54321\n",
       "H2O connection proxy:       {'http': None, 'https': None}\n",
       "H2O internal security:      False\n",
       "H2O API Extensions:         Amazon S3, XGBoost, Algos, AutoML, Core V3, TargetEncoder, Core V4\n",
       "Python version:             3.6.8 final\n",
       "--------------------------  ------------------------------------------------------------------"
      ]
     },
     "metadata": {},
     "output_type": "display_data"
    }
   ],
   "source": [
    "# use some automl\n",
    "import h2o\n",
    "h2o.init()"
   ]
  },
  {
   "cell_type": "code",
   "execution_count": 16,
   "metadata": {},
   "outputs": [
    {
     "name": "stdout",
     "output_type": "stream",
     "text": [
      "Parse progress: |█████████████████████████████████████████████████████████| 100%\n",
      "Parse progress: |█████████████████████████████████████████████████████████| 100%\n"
     ]
    }
   ],
   "source": [
    "# Load a pandas data frame to H2O\n",
    "hf = h2o.H2OFrame(train)\n",
    "hf_sub = h2o.H2OFrame(sub)"
   ]
  },
  {
   "cell_type": "code",
   "execution_count": 18,
   "metadata": {},
   "outputs": [
    {
     "ename": "AttributeError",
     "evalue": "'H2OFrame' object has no attribute 'info'",
     "output_type": "error",
     "traceback": [
      "\u001b[0;31m--------------------------------------------------------------------------\u001b[0m",
      "\u001b[0;31mAttributeError\u001b[0m                           Traceback (most recent call last)",
      "\u001b[0;32m<ipython-input-18-360d6cd00d5e>\u001b[0m in \u001b[0;36m<module>\u001b[0;34m\u001b[0m\n\u001b[0;32m----> 1\u001b[0;31m \u001b[0mhf\u001b[0m\u001b[0;34m.\u001b[0m\u001b[0minfo\u001b[0m\u001b[0;34m(\u001b[0m\u001b[0mmemory_usage\u001b[0m\u001b[0;34m=\u001b[0m\u001b[0;34m'deep'\u001b[0m\u001b[0;34m)\u001b[0m\u001b[0;34m\u001b[0m\u001b[0;34m\u001b[0m\u001b[0m\n\u001b[0m",
      "\u001b[0;31mAttributeError\u001b[0m: 'H2OFrame' object has no attribute 'info'"
     ]
    }
   ],
   "source": [
    "hf.info(memory_usage='deep')"
   ]
  },
  {
   "cell_type": "code",
   "execution_count": 19,
   "metadata": {},
   "outputs": [],
   "source": [
    "x = hf.names\n",
    "x.remove(\"SalePrice\")\n",
    "x.remove(\"LogSalePrice\")\n",
    "Y = \"LogSalePrice\""
   ]
  },
  {
   "cell_type": "code",
   "execution_count": 20,
   "metadata": {},
   "outputs": [],
   "source": [
    "train, test = hf.split_frame([0.7], seed=42)"
   ]
  },
  {
   "cell_type": "code",
   "execution_count": null,
   "metadata": {},
   "outputs": [],
   "source": [
    "from h2o.estimators.xgboost import H2OXGBoostEstimator\n",
    "xgb = H2OXGBoostEstimator(nfolds=10, seed=1)\n",
    "xgb.train(x=x, y=Y, training_frame=train,\n",
    "         validation_frame=test)\n",
    "\n",
    "print(xgb)"
   ]
  },
  {
   "cell_type": "code",
   "execution_count": null,
   "metadata": {},
   "outputs": [],
   "source": [
    "# Grid Search\n",
    "from h2o.grid.grid_search import H2OGridSearch\n",
    "\n",
    "xgb_parameters = {'max_depth': [3, 4, 5, 6],\n",
    "                  'sample_rate': [0.7, 0.8],\n",
    "                  'col_sample_rate': [0.7, 0.8],\n",
    "                  'ntrees': [200, 300, 400]}\n",
    "\n",
    "xgb_grid_search = H2OGridSearch(model=H2OXGBoostEstimator,\n",
    "                                grid_id='example_grid',\n",
    "                                hyper_params=xgb_parameters)\n",
    "\n",
    "xgb_grid_search.train(x=x,\n",
    "                      y=Y,\n",
    "                      training_frame=train,\n",
    "                      validation_frame=test,\n",
    "                      nfolds = 10,\n",
    "                      learn_rate=0.01,\n",
    "                      seed=42)"
   ]
  },
  {
   "cell_type": "code",
   "execution_count": null,
   "metadata": {},
   "outputs": [],
   "source": [
    "grid_results = xgb_grid_search.get_grid(sort_by='rmse',\n",
    "                                        decreasing=False)\n",
    "print(grid_results)"
   ]
  },
  {
   "cell_type": "code",
   "execution_count": null,
   "metadata": {},
   "outputs": [],
   "source": [
    "xgb = grid_results.models[0]\n",
    "\n",
    "preds = xgb.predict(hf_sub)"
   ]
  },
  {
   "cell_type": "code",
   "execution_count": 21,
   "metadata": {},
   "outputs": [
    {
     "name": "stdout",
     "output_type": "stream",
     "text": [
      "AutoML progress: |\n",
      "02:29:30.201: User specified a validation frame with cross-validation still enabled. Please note that the models will still be validated using cross-validation only, the validation frame will be used to provide purely informative validation metrics on the trained models.\n",
      "\n",
      "████████████████████████████████████████████████████████| 100%\n"
     ]
    },
    {
     "data": {
      "text/html": [
       "<table>\n",
       "<thead>\n",
       "<tr><th>model_id                                           </th><th style=\"text-align: right;\">    rmse</th><th style=\"text-align: right;\">  mean_residual_deviance</th><th style=\"text-align: right;\">      mse</th><th style=\"text-align: right;\">      mae</th><th style=\"text-align: right;\">     rmsle</th></tr>\n",
       "</thead>\n",
       "<tbody>\n",
       "<tr><td>StackedEnsemble_AllModels_AutoML_20200129_022930   </td><td style=\"text-align: right;\">0.122118</td><td style=\"text-align: right;\">               0.0149128</td><td style=\"text-align: right;\">0.0149128</td><td style=\"text-align: right;\">0.081377 </td><td style=\"text-align: right;\">0.00946774</td></tr>\n",
       "<tr><td>StackedEnsemble_BestOfFamily_AutoML_20200129_022930</td><td style=\"text-align: right;\">0.122697</td><td style=\"text-align: right;\">               0.0150546</td><td style=\"text-align: right;\">0.0150546</td><td style=\"text-align: right;\">0.082124 </td><td style=\"text-align: right;\">0.00950166</td></tr>\n",
       "<tr><td>GBM_3_AutoML_20200129_022930                       </td><td style=\"text-align: right;\">0.126504</td><td style=\"text-align: right;\">               0.0160033</td><td style=\"text-align: right;\">0.0160033</td><td style=\"text-align: right;\">0.086205 </td><td style=\"text-align: right;\">0.00980751</td></tr>\n",
       "<tr><td>GBM_2_AutoML_20200129_022930                       </td><td style=\"text-align: right;\">0.126749</td><td style=\"text-align: right;\">               0.0160654</td><td style=\"text-align: right;\">0.0160654</td><td style=\"text-align: right;\">0.0859409</td><td style=\"text-align: right;\">0.00984099</td></tr>\n",
       "<tr><td>XGBoost_3_AutoML_20200129_022930                   </td><td style=\"text-align: right;\">0.128453</td><td style=\"text-align: right;\">               0.0165002</td><td style=\"text-align: right;\">0.0165002</td><td style=\"text-align: right;\">0.0861464</td><td style=\"text-align: right;\">0.00992531</td></tr>\n",
       "<tr><td>XGBoost_2_AutoML_20200129_022930                   </td><td style=\"text-align: right;\">0.128758</td><td style=\"text-align: right;\">               0.0165787</td><td style=\"text-align: right;\">0.0165787</td><td style=\"text-align: right;\">0.0863735</td><td style=\"text-align: right;\">0.00997198</td></tr>\n",
       "<tr><td>XGBoost_1_AutoML_20200129_022930                   </td><td style=\"text-align: right;\">0.129244</td><td style=\"text-align: right;\">               0.016704 </td><td style=\"text-align: right;\">0.016704 </td><td style=\"text-align: right;\">0.0872298</td><td style=\"text-align: right;\">0.0100039 </td></tr>\n",
       "<tr><td>GBM_1_AutoML_20200129_022930                       </td><td style=\"text-align: right;\">0.133352</td><td style=\"text-align: right;\">               0.0177828</td><td style=\"text-align: right;\">0.0177828</td><td style=\"text-align: right;\">0.0890309</td><td style=\"text-align: right;\">0.0103042 </td></tr>\n",
       "<tr><td>GBM_4_AutoML_20200129_022930                       </td><td style=\"text-align: right;\">0.197923</td><td style=\"text-align: right;\">               0.0391734</td><td style=\"text-align: right;\">0.0391734</td><td style=\"text-align: right;\">0.142652 </td><td style=\"text-align: right;\">0.0152723 </td></tr>\n",
       "</tbody>\n",
       "</table>"
      ]
     },
     "metadata": {},
     "output_type": "display_data"
    },
    {
     "name": "stdout",
     "output_type": "stream",
     "text": [
      "\n"
     ]
    }
   ],
   "source": [
    "from h2o.automl import H2OAutoML\n",
    "autoML = H2OAutoML(max_runtime_secs=30, \n",
    "            nfolds = 10,            \n",
    "            stopping_metric = 'RMSE',\n",
    "            sort_metric = 'RMSE',\n",
    "            exclude_algos=['DRF','GLM'],\n",
    "        )\n",
    "\n",
    "autoML.train(x=x,\n",
    "             y=Y,\n",
    "             training_frame=train,\n",
    "             validation_frame=test,\n",
    "        )\n",
    "\n",
    "print(autoML.leaderboard)"
   ]
  },
  {
   "cell_type": "code",
   "execution_count": 22,
   "metadata": {},
   "outputs": [
    {
     "name": "stdout",
     "output_type": "stream",
     "text": [
      "stackedensemble prediction progress: |████████████████████████████████████| 100%\n"
     ]
    },
    {
     "name": "stderr",
     "output_type": "stream",
     "text": [
      "/home/tk/.local/lib/python3.6/site-packages/h2o/job.py:70: UserWarning: Test/Validation dataset column 'MSZoning' has levels not trained on: [nan]\n",
      "  warnings.warn(w)\n",
      "/home/tk/.local/lib/python3.6/site-packages/h2o/job.py:70: UserWarning: Test/Validation dataset column 'Utilities' has levels not trained on: [nan]\n",
      "  warnings.warn(w)\n",
      "/home/tk/.local/lib/python3.6/site-packages/h2o/job.py:70: UserWarning: Test/Validation dataset column 'Exterior1st' has levels not trained on: [nan]\n",
      "  warnings.warn(w)\n",
      "/home/tk/.local/lib/python3.6/site-packages/h2o/job.py:70: UserWarning: Test/Validation dataset column 'Exterior2nd' has levels not trained on: [nan]\n",
      "  warnings.warn(w)\n",
      "/home/tk/.local/lib/python3.6/site-packages/h2o/job.py:70: UserWarning: Test/Validation dataset column 'KitchenQual' has levels not trained on: [nan]\n",
      "  warnings.warn(w)\n",
      "/home/tk/.local/lib/python3.6/site-packages/h2o/job.py:70: UserWarning: Test/Validation dataset column 'Functional' has levels not trained on: [nan]\n",
      "  warnings.warn(w)\n",
      "/home/tk/.local/lib/python3.6/site-packages/h2o/job.py:70: UserWarning: Test/Validation dataset column 'SaleType' has levels not trained on: [nan]\n",
      "  warnings.warn(w)\n"
     ]
    }
   ],
   "source": [
    "import h2o\n",
    "\n",
    "preds = autoML.leader.predict(hf_sub)"
   ]
  },
  {
   "cell_type": "code",
   "execution_count": 23,
   "metadata": {},
   "outputs": [],
   "source": [
    "submission = hf_sub['Id']"
   ]
  },
  {
   "cell_type": "code",
   "execution_count": 24,
   "metadata": {},
   "outputs": [
    {
     "data": {
      "text/plain": [
       "pandas.core.frame.DataFrame"
      ]
     },
     "execution_count": 24,
     "metadata": {},
     "output_type": "execute_result"
    }
   ],
   "source": [
    "pd_ser = h2o.as_list(preds, use_pandas=True)\n",
    "#ser = pd.Series(preds)\n",
    "df = np.exp(pd_ser)\n",
    "type(df)"
   ]
  },
  {
   "cell_type": "code",
   "execution_count": 25,
   "metadata": {},
   "outputs": [
    {
     "name": "stdout",
     "output_type": "stream",
     "text": [
      "Parse progress: |█████████████████████████████████████████████████████████| 100%\n"
     ]
    }
   ],
   "source": [
    "submission['SalePrice'] = h2o.H2OFrame(df)"
   ]
  },
  {
   "cell_type": "code",
   "execution_count": 26,
   "metadata": {},
   "outputs": [
    {
     "data": {
      "text/plain": [
       "'/workspaces/aws_ml/data/house-prices/submission.csv'"
      ]
     },
     "execution_count": 26,
     "metadata": {},
     "output_type": "execute_result"
    }
   ],
   "source": [
    "h2o.h2o.download_csv(submission, \"../data/house-prices/submission.csv\")"
   ]
  },
  {
   "cell_type": "code",
   "execution_count": null,
   "metadata": {},
   "outputs": [],
   "source": []
  }
 ],
 "metadata": {
  "kernelspec": {
   "display_name": "Python 3",
   "language": "python",
   "name": "python3"
  },
  "language_info": {
   "codemirror_mode": {
    "name": "ipython",
    "version": 3
   },
   "file_extension": ".py",
   "mimetype": "text/x-python",
   "name": "python",
   "nbconvert_exporter": "python",
   "pygments_lexer": "ipython3",
   "version": "3.6.8"
  }
 },
 "nbformat": 4,
 "nbformat_minor": 4
}
