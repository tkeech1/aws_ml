{
 "cells": [
  {
   "cell_type": "code",
   "execution_count": null,
   "metadata": {},
   "outputs": [],
   "source": [
    "# COMPLETE - how to get zero for a user/date/hour that has no observations?\n",
    "   # create cartesian product of user/hour/date\n",
    "# COMPLETE - exclude all but the last 30-days from current day (drop older records, or use window?) \n",
    "# COMPLETE - Change to use mean instead of median\n",
    "# TODO - Should we just focus on a single requirement?\n",
    "# TODO - Do something with activity? "
   ]
  },
  {
   "cell_type": "code",
   "execution_count": null,
   "metadata": {},
   "outputs": [],
   "source": [
    "import pandas as pd\n",
    "import numpy as np\n",
    "from datetime import datetime/"
   ]
  },
  {
   "cell_type": "code",
   "execution_count": null,
   "metadata": {},
   "outputs": [],
   "source": [
    "dateparse = lambda x: datetime.strptime(x, '%m/%d/%Y %H:%M:%S')\n",
    "usecols = [\"id\", \"date\", \"user\", \"pc\", \"activity\"]\n",
    "logon_df = pd.read_csv('../data/r2/logon.csv', parse_dates=['date'], date_parser=dateparse, usecols=usecols)\n",
    "logon_df = logon_df.set_index('date').sort_index(axis=0)"
   ]
  },
  {
   "cell_type": "code",
   "execution_count": null,
   "metadata": {},
   "outputs": [],
   "source": [
    "logon_df.info(memory_usage='deep')"
   ]
  },
  {
   "cell_type": "code",
   "execution_count": null,
   "metadata": {},
   "outputs": [],
   "source": [
    "logon_df.head()"
   ]
  },
  {
   "cell_type": "code",
   "execution_count": null,
   "metadata": {},
   "outputs": [],
   "source": [
    "# filter the data to a specific date range\n",
    "logon_df = logon_df['2010-02-20':'2010-03-20']"
   ]
  },
  {
   "cell_type": "code",
   "execution_count": null,
   "metadata": {},
   "outputs": [],
   "source": [
    "# create a field for the hour of the day\n",
    "logon_df['hour'] = logon_df.index.hour\n",
    "logon_df.head()"
   ]
  },
  {
   "cell_type": "code",
   "execution_count": null,
   "metadata": {},
   "outputs": [],
   "source": [
    "# group the data by user, hour and resample on a daily basis, counting the number of events per day.\n",
    "# this results in a df that shows the count of logons/logoffs for each user/hour for each day\n",
    "# if a user had no events during a given day/hour, then no record exists in this \n",
    "# dataframe (which is a problem we will fix)\n",
    "\n",
    "logon_resampled_df = logon_df.groupby(['user','hour'], sort=False).resample('D').count()[['id']]\n",
    "logon_resampled_df = logon_resampled_df.rename(columns={'id': 'login_count'})\n",
    "logon_resampled_df = logon_resampled_df.astype({'login_count': 'int32'})\n",
    "logon_resampled_df.info(memory_usage='deep')"
   ]
  },
  {
   "cell_type": "code",
   "execution_count": null,
   "metadata": {},
   "outputs": [],
   "source": [
    "# this code creates entries that indicate a user had 0 event entries for a given time interval.\n",
    "# this is necessary because when using a group by, hours in which the user had no activity do not\n",
    "# show any results and are consequently not included in the calculations. instead, we want the hour/user/date\n",
    "# combination to show 0 for dates/hours when the user had 0 events for the purpose of computing statistics\n",
    "\n",
    "users = logon_resampled_df.index.get_level_values(0).unique()\n",
    "hours = logon_resampled_df.index.get_level_values(1).unique()\n",
    "dates = logon_resampled_df.index.get_level_values(2).unique()\n",
    "\n",
    "# create a cartesian product of users, hours and dates\n",
    "index = pd.MultiIndex.from_product([users, hours, dates], names = [\"user\", \"hour\", \"date\"])\n",
    "full_df = pd.DataFrame(index = index)\n",
    "\n",
    "# set the default value for the login_count to 0 - this will be overwritten by the true\n",
    "# count that was calculated in logon_resampled_df\n",
    "full_df['login_count'] = 0\n",
    "\n",
    "# save some memory\n",
    "full_df = full_df.astype({'login_count': 'int32'})\n",
    "\n",
    "full_df.info(memory_usage='deep')"
   ]
  },
  {
   "cell_type": "code",
   "execution_count": null,
   "metadata": {},
   "outputs": [],
   "source": [
    "# merge the two data frames on the index\n",
    "daily_count_df = pd.merge(left=full_df, right=logon_resampled_df, how='left', right_index=True, left_index=True)\n",
    "\n",
    "# collapse the two login_count columns into a single column and remove the columns created by the merge\n",
    "daily_count_df['login_count'] = daily_count_df[[\"login_count_x\", \"login_count_y\"]].max(axis=1)\n",
    "daily_count_df = daily_count_df.drop(['login_count_x', 'login_count_y'], axis=1)\n",
    "daily_count_df = daily_count_df.astype({'login_count': 'int32'})"
   ]
  },
  {
   "cell_type": "code",
   "execution_count": null,
   "metadata": {},
   "outputs": [],
   "source": [
    "daily_count_df.info(memory_usage='deep')"
   ]
  },
  {
   "cell_type": "markdown",
   "metadata": {},
   "source": [
    "## Start of outlier detection calculations"
   ]
  },
  {
   "cell_type": "code",
   "execution_count": null,
   "metadata": {},
   "outputs": [],
   "source": [
    "# find the average login count for each user, hour combination\n",
    "daily_count_df['mean_login_count'] = daily_count_df.groupby(['user','hour'], sort=False).login_count.mean()\n",
    "daily_count_df.head()"
   ]
  },
  {
   "cell_type": "code",
   "execution_count": null,
   "metadata": {},
   "outputs": [],
   "source": [
    "# calculate the absolute deviation\n",
    "daily_count_df['abs_dev'] = abs(daily_count_df['mean_login_count'] - daily_count_df['login_count'])\n",
    "daily_count_df.head()"
   ]
  },
  {
   "cell_type": "code",
   "execution_count": null,
   "metadata": {},
   "outputs": [],
   "source": [
    "# calculate the mean absolute deviation\n",
    "daily_count_df['mean_abs_dev'] = daily_count_df.groupby(['user','hour'], sort=False).abs_dev.mean()\n",
    "daily_count_df.head()"
   ]
  },
  {
   "cell_type": "code",
   "execution_count": null,
   "metadata": {},
   "outputs": [],
   "source": [
    "# calcuate the lower bound and upper bound\n",
    "multiplier = 9 \n",
    "daily_count_df['lower_bound'] = daily_count_df['mean_login_count'] - (daily_count_df['mean_abs_dev'] * multiplier)\n",
    "daily_count_df['upper_bound'] = daily_count_df['mean_login_count'] + (daily_count_df['mean_abs_dev'] * multiplier)\n",
    "\n",
    "daily_count_df.head()"
   ]
  },
  {
   "cell_type": "code",
   "execution_count": null,
   "metadata": {},
   "outputs": [],
   "source": [
    "# calculate the outliers\n",
    "daily_count_df['outlier'] = np.where(daily_count_df['login_count'] < daily_count_df['lower_bound'] , 1, \n",
    "                                         np.where(daily_count_df['login_count'] > daily_count_df['upper_bound'], 1, 0))\n",
    "daily_count_df.head()"
   ]
  },
  {
   "cell_type": "code",
   "execution_count": null,
   "metadata": {},
   "outputs": [],
   "source": [
    "# how many users have outliers? \n",
    "len(daily_count_df[daily_count_df['outlier'] == 1].index.get_level_values(0).unique())"
   ]
  },
  {
   "cell_type": "code",
   "execution_count": null,
   "metadata": {},
   "outputs": [],
   "source": [
    "# check to see if the one insider in r2 is listed\n",
    "'ONS0995' in daily_count_df[daily_count_df['outlier'] == 1].index.get_level_values(0).unique()"
   ]
  },
  {
   "cell_type": "code",
   "execution_count": null,
   "metadata": {},
   "outputs": [],
   "source": [
    "#daily_count_df.query('user == \"ONS0995\" and date >= \"2010/03/06\" and date < \"2010/03/21\" and hour==0').head(250)\n",
    "daily_count_df.query('user == \"ONS0995\" and hour==0').head(250)"
   ]
  },
  {
   "cell_type": "code",
   "execution_count": null,
   "metadata": {},
   "outputs": [],
   "source": []
  },
  {
   "cell_type": "code",
   "execution_count": null,
   "metadata": {},
   "outputs": [],
   "source": []
  },
  {
   "cell_type": "code",
   "execution_count": null,
   "metadata": {},
   "outputs": [],
   "source": []
  },
  {
   "cell_type": "code",
   "execution_count": null,
   "metadata": {},
   "outputs": [],
   "source": []
  },
  {
   "cell_type": "code",
   "execution_count": null,
   "metadata": {},
   "outputs": [],
   "source": []
  },
  {
   "cell_type": "code",
   "execution_count": null,
   "metadata": {},
   "outputs": [],
   "source": []
  },
  {
   "cell_type": "code",
   "execution_count": null,
   "metadata": {},
   "outputs": [],
   "source": []
  },
  {
   "cell_type": "markdown",
   "metadata": {},
   "source": [
    "CMU dataset scenarios"
   ]
  },
  {
   "cell_type": "markdown",
   "metadata": {},
   "source": [
    "1. User who did not previously use removable drives or work after hours begins logging in after hours, using a removable drive, and uploading data to wikileaks.org. Leaves the organization shortly thereafter."
   ]
  },
  {
   "cell_type": "markdown",
   "metadata": {},
   "source": [
    "2. User begins surfing job websites and soliciting employment from a\n",
    "competitor. Before leaving the company, they use a thumb drive (at\n",
    "markedly higher rates than their previous activity) to steal data."
   ]
  },
  {
   "cell_type": "markdown",
   "metadata": {},
   "source": [
    "3. System administrator becomes disgruntled. Downloads a keylogger and\n",
    "uses a thumb drive to transfer it to his supervisor's machine. The\n",
    "next day, he uses the collected keylogs to log in as his supervisor\n",
    "and send out an alarming mass email, causing panic in the\n",
    "organization. He leaves the organization immediately."
   ]
  },
  {
   "cell_type": "markdown",
   "metadata": {},
   "source": [
    "4. A user logs into another user's machine and searches for\n",
    "interesting files, emailing to their home email. This behavior occurs\n",
    "more and more frequently over a 3 month period."
   ]
  },
  {
   "cell_type": "markdown",
   "metadata": {},
   "source": [
    "5. A member of a group decimated by layoffs uploads documents to\n",
    "Dropbox, planning to use them for personal gain."
   ]
  }
 ],
 "metadata": {
  "kernelspec": {
   "display_name": "Python 3",
   "language": "python",
   "name": "python3"
  },
  "language_info": {
   "codemirror_mode": {
    "name": "ipython",
    "version": 3
   },
   "file_extension": ".py",
   "mimetype": "text/x-python",
   "name": "python",
   "nbconvert_exporter": "python",
   "pygments_lexer": "ipython3",
   "version": "3.6.8"
  }
 },
 "nbformat": 4,
 "nbformat_minor": 4
}
