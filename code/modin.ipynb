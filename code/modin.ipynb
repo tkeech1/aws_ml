{
 "cells": [
  {
   "cell_type": "code",
   "execution_count": null,
   "id": "english-indian",
   "metadata": {},
   "outputs": [],
   "source": [
    "import os\n",
    "os.environ[\"MODIN_ENGINE\"] = \"dask\"\n",
    "os.environ[\"MODIN_CPUS\"] = \"6\"\n",
    "#os.environ[\"MODIN_OUT_OF_CORE\"] = \"true\"\n",
    "#os.environ[\"MODIN_MEMORY\"] = \"200000000000\" # 200 GB\n",
    "#os.environ[\"MODIN_MEMORY\"] = \"40000000000\" # 40GB\n",
    "import modin.pandas as pd"
   ]
  },
  {
   "cell_type": "code",
   "execution_count": null,
   "id": "increasing-campus",
   "metadata": {},
   "outputs": [],
   "source": [
    "# This example creates a 40GB DataFrame from 20 identical 2GB DataFrames and performs various operations on them. \n",
    "\n",
    "import numpy as np\n",
    "frame_data = np.random.randint(0, 100, size=(2**20, 2**8)) # 2GB each\n",
    "df = pd.DataFrame(frame_data).add_prefix(\"col\")\n",
    "big_df = pd.concat([df for _ in range(20)]) # 20x2GB frames"
   ]
  },
  {
   "cell_type": "code",
   "execution_count": null,
   "id": "fitting-treatment",
   "metadata": {},
   "outputs": [],
   "source": [
    "big_df.info(memory_usage=\"deep\")"
   ]
  },
  {
   "cell_type": "code",
   "execution_count": null,
   "id": "blind-chase",
   "metadata": {},
   "outputs": [],
   "source": [
    "nan_big_df = big_df.isna() # The performance here represents a simple map"
   ]
  },
  {
   "cell_type": "code",
   "execution_count": null,
   "id": "returning-requirement",
   "metadata": {},
   "outputs": [],
   "source": [
    "print(big_df.apply(lambda col: col.sum())) # apply along an entire axis (columns in this case)"
   ]
  },
  {
   "cell_type": "code",
   "execution_count": null,
   "id": "complimentary-forestry",
   "metadata": {},
   "outputs": [],
   "source": []
  },
  {
   "cell_type": "code",
   "execution_count": null,
   "id": "alpha-samoa",
   "metadata": {},
   "outputs": [],
   "source": []
  },
  {
   "cell_type": "code",
   "execution_count": 6,
   "id": "roman-parameter",
   "metadata": {},
   "outputs": [
    {
     "name": "stderr",
     "output_type": "stream",
     "text": [
      "UserWarning: Distributing <class 'int'> object. This may take some time.\n"
     ]
    },
    {
     "name": "stdout",
     "output_type": "stream",
     "text": [
      "<class 'modin.pandas.dataframe.DataFrame'>\n",
      "RangeIndex: 3 entries, 0 to 2\n",
      "Data columns (total 1 columns):\n",
      " #   Column   Non-Null Count  Dtype\n",
      "---  -------  --------------  -----\n",
      " 0   Numbers  3 non-null      int64\n",
      "dtypes: int64(1)\n",
      "memory usage: 152.0 bytes\n"
     ]
    }
   ],
   "source": [
    "import modin.pandas as pd\n",
    "\n",
    "df = pd.DataFrame(pd.Series([1, 2, 3], name=\"Numbers\"))\n",
    "df.info(memory_usage=\"deep\")"
   ]
  },
  {
   "cell_type": "code",
   "execution_count": null,
   "id": "joint-aurora",
   "metadata": {},
   "outputs": [],
   "source": []
  }
 ],
 "metadata": {
  "kernelspec": {
   "display_name": "Python 3",
   "language": "python",
   "name": "python3"
  },
  "language_info": {
   "codemirror_mode": {
    "name": "ipython",
    "version": 3
   },
   "file_extension": ".py",
   "mimetype": "text/x-python",
   "name": "python",
   "nbconvert_exporter": "python",
   "pygments_lexer": "ipython3",
   "version": "3.6.8"
  }
 },
 "nbformat": 4,
 "nbformat_minor": 5
}
