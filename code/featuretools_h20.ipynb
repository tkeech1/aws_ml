{
 "cells": [
  {
   "cell_type": "code",
   "execution_count": null,
   "metadata": {},
   "outputs": [],
   "source": [
    "# https://towardsdatascience.com/automated-feature-engineering-in-python-99baf11cc219"
   ]
  },
  {
   "cell_type": "code",
   "execution_count": null,
   "metadata": {},
   "outputs": [],
   "source": [
    "import pandas as pd\n",
    "import numpy as np\n",
    "import featuretools as ft\n",
    "pd.set_option('display.width', 5000)"
   ]
  },
  {
   "cell_type": "code",
   "execution_count": null,
   "metadata": {},
   "outputs": [],
   "source": [
    "loans_dtypes = {\n",
    "    'client_id': np.int64,\n",
    "    'loan_type': str\n",
    "}\n",
    "dateparse = lambda x: pd.datetime.strptime(x, '%Y-%m-%d')\n",
    "\n",
    "clients = pd.read_csv(\"../data/clients.csv\",delimiter=\",\")\n",
    "loans = pd.read_csv(\"../data/loans.csv\",delimiter=\",\",parse_dates=['loan_start','loan_end'], date_parser=dateparse, dtype=loans_dtypes)\n",
    "payments = pd.read_csv(\"../data/payments.csv\",delimiter=\",\",parse_dates=['payment_date'], date_parser=dateparse) #, dtype=loans_dtypes)"
   ]
  },
  {
   "cell_type": "code",
   "execution_count": null,
   "metadata": {},
   "outputs": [],
   "source": [
    "clients.head()"
   ]
  },
  {
   "cell_type": "code",
   "execution_count": null,
   "metadata": {},
   "outputs": [],
   "source": [
    "loans.head()"
   ]
  },
  {
   "cell_type": "code",
   "execution_count": null,
   "metadata": {},
   "outputs": [],
   "source": [
    "# here's a way to aggregate data without featuretools\n",
    "import pandas as pd\n",
    "\n",
    "# Group loans by client id and calculate mean, max, min of loans\n",
    "stats = loans.groupby('client_id')['loan_amount'].agg(['mean', 'max', 'min'])\n",
    "stats.columns = ['mean_loan_amount', 'max_loan_amount', 'min_loan_amount']\n",
    "\n",
    "# Merge with the clients dataframe\n",
    "stats = clients.merge(stats, left_on = 'client_id', right_index=True, how = 'left')\n",
    "\n",
    "stats.head(10)"
   ]
  },
  {
   "cell_type": "code",
   "execution_count": null,
   "metadata": {},
   "outputs": [],
   "source": [
    "# Create new entityset\n",
    "es = ft.EntitySet(id = 'clients')"
   ]
  },
  {
   "cell_type": "code",
   "execution_count": null,
   "metadata": {},
   "outputs": [],
   "source": [
    "# Create an entity from the client dataframe\n",
    "# This dataframe already has an index and a time index\n",
    "es = es.entity_from_dataframe(entity_id = 'clients', dataframe = clients, \n",
    "                              index = 'client_id', time_index = 'joined')"
   ]
  },
  {
   "cell_type": "code",
   "execution_count": null,
   "metadata": {},
   "outputs": [],
   "source": [
    "# Create an entity from the loans dataframe\n",
    "# This dataframe already has an index and a time index\n",
    "es = es.entity_from_dataframe(entity_id = 'loans', dataframe = loans, \n",
    "                              index = 'loan_id')"
   ]
  },
  {
   "cell_type": "code",
   "execution_count": null,
   "metadata": {},
   "outputs": [],
   "source": [
    "# Create an entity from the payments dataframe\n",
    "# This does not yet have a unique index so make_index=True\n",
    "es = es.entity_from_dataframe(entity_id = 'payments', \n",
    "                              dataframe = payments,\n",
    "                              variable_types = {'missed': ft.variable_types.Categorical},\n",
    "                              make_index = True,\n",
    "                              index = 'payment_id',\n",
    "                              time_index = 'payment_date')"
   ]
  },
  {
   "cell_type": "code",
   "execution_count": null,
   "metadata": {},
   "outputs": [],
   "source": [
    "print(es)"
   ]
  },
  {
   "cell_type": "code",
   "execution_count": null,
   "metadata": {},
   "outputs": [],
   "source": [
    "es['payments']"
   ]
  },
  {
   "cell_type": "code",
   "execution_count": null,
   "metadata": {},
   "outputs": [],
   "source": [
    "# Relationship between clients and previous loans\n",
    "r_client_previous = ft.Relationship(es['clients']['client_id'],\n",
    "                                    es['loans']['client_id'])\n",
    "\n",
    "# Add the relationship to the entity set\n",
    "es = es.add_relationship(r_client_previous)\n",
    "\n",
    "# Relationship between previous loans and previous payments\n",
    "r_payments = ft.Relationship(es['loans']['loan_id'],\n",
    "                                      es['payments']['loan_id'])\n",
    "\n",
    "# Add the relationship to the entity set\n",
    "es = es.add_relationship(r_payments)\n",
    "\n",
    "es"
   ]
  },
  {
   "cell_type": "code",
   "execution_count": null,
   "metadata": {},
   "outputs": [],
   "source": [
    "# Create new features using specified primitives\n",
    "features, feature_names = ft.dfs(entityset = es, target_entity = 'clients', \n",
    "                                 agg_primitives = ['mean', 'max', 'percent_true', 'last'],\n",
    "                                 trans_primitives = ['percentile','month','year','hour'])\n",
    "\n",
    "print(features.columns.values)"
   ]
  },
  {
   "cell_type": "code",
   "execution_count": null,
   "metadata": {},
   "outputs": [],
   "source": [
    "# let featuretools determine features automatically\n",
    "features, feature_names = ft.dfs(entityset = es, target_entity = 'clients', \n",
    "                                 max_depth=2)\n",
    "\n",
    "features.drop('income', axis=1, inplace=True)\n",
    "features.drop('credit_score', axis=1, inplace=True)\n",
    "print(features.columns.values)"
   ]
  },
  {
   "cell_type": "code",
   "execution_count": null,
   "metadata": {},
   "outputs": [],
   "source": [
    "type(features)"
   ]
  },
  {
   "cell_type": "code",
   "execution_count": null,
   "metadata": {},
   "outputs": [],
   "source": [
    "clients_full = clients.merge(features, left_on = 'client_id', right_index=True, how = 'left')"
   ]
  },
  {
   "cell_type": "code",
   "execution_count": null,
   "metadata": {},
   "outputs": [],
   "source": [
    "clients_full.head()"
   ]
  },
  {
   "cell_type": "code",
   "execution_count": null,
   "metadata": {},
   "outputs": [],
   "source": [
    "# use some automl\n",
    "import h2o\n",
    "h2o.init()"
   ]
  },
  {
   "cell_type": "code",
   "execution_count": null,
   "metadata": {},
   "outputs": [],
   "source": [
    "# Load a pandas data frame to H2O\n",
    "hf = h2o.H2OFrame(clients_full)"
   ]
  },
  {
   "cell_type": "code",
   "execution_count": null,
   "metadata": {},
   "outputs": [],
   "source": [
    "x = hf.names\n",
    "x.remove(\"credit_score\")\n",
    "Y = \"credit_score\""
   ]
  },
  {
   "cell_type": "code",
   "execution_count": null,
   "metadata": {},
   "outputs": [],
   "source": [
    "train, test = hf.split_frame([0.7], seed=42)"
   ]
  },
  {
   "cell_type": "code",
   "execution_count": null,
   "metadata": {},
   "outputs": [],
   "source": [
    "from h2o.estimators.xgboost import H2OXGBoostEstimator\n",
    "xgb = H2OXGBoostEstimator(nfolds=3, seed=1)\n",
    "xgb.train(x=x, y=Y, training_frame=train,\n",
    "         validation_frame=test)\n",
    "\n",
    "print(xgb)"
   ]
  },
  {
   "cell_type": "code",
   "execution_count": null,
   "metadata": {},
   "outputs": [],
   "source": [
    "from h2o.automl import H2OAutoML\n",
    "autoML = H2OAutoML(max_runtime_secs=240)\n",
    "autoML.train(x=x,\n",
    "             y=Y,\n",
    "             training_frame=train)\n",
    "\n",
    "leaderboard = autoML.leaderboard\n",
    "print(leaderboard)"
   ]
  },
  {
   "cell_type": "code",
   "execution_count": null,
   "metadata": {},
   "outputs": [],
   "source": []
  }
 ],
 "metadata": {
  "kernelspec": {
   "display_name": "Python 3",
   "language": "python",
   "name": "python3"
  },
  "language_info": {
   "codemirror_mode": {
    "name": "ipython",
    "version": 3
   },
   "file_extension": ".py",
   "mimetype": "text/x-python",
   "name": "python",
   "nbconvert_exporter": "python",
   "pygments_lexer": "ipython3",
   "version": "3.6.8"
  }
 },
 "nbformat": 4,
 "nbformat_minor": 4
}
