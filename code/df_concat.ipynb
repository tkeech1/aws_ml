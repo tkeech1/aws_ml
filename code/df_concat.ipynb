{
 "cells": [
  {
   "cell_type": "code",
   "execution_count": 21,
   "id": "blank-trinidad",
   "metadata": {},
   "outputs": [],
   "source": [
    "import pandas as pd\n",
    "\n",
    "#df1 = pd.read_csv(\"../data/house-prices/train.csv\",delimiter=\",\")\n",
    "#df2 = pd.read_csv(\"../data/house-prices/train.csv\",delimiter=\",\")\n",
    "#df3 = pd.read_csv(\"../data/house-prices/train.csv\",delimiter=\",\")"
   ]
  },
  {
   "cell_type": "code",
   "execution_count": 22,
   "id": "everyday-water",
   "metadata": {},
   "outputs": [],
   "source": [
    "files = [\"../data/house-prices/train.csv\",\"../data/house-prices/train.csv\",\"../data/house-prices/train.csv\"]"
   ]
  },
  {
   "cell_type": "code",
   "execution_count": 17,
   "id": "increasing-diabetes",
   "metadata": {},
   "outputs": [
    {
     "name": "stdout",
     "output_type": "stream",
     "text": [
      "CPU times: user 23.9 s, sys: 780 ms, total: 24.7 s\n",
      "Wall time: 25.8 s\n"
     ]
    }
   ],
   "source": [
    "%%time\n",
    "\n",
    "start = True\n",
    "for f in files:\n",
    "    df = pd.read_csv(f)\n",
    "    if not start:\n",
    "        df.to_csv(\"outfile.csv\",index=False,mode='a', header=False)\n",
    "    else:\n",
    "        df.to_csv(\"outfile.csv\", index=False)\n",
    "        start = False"
   ]
  },
  {
   "cell_type": "code",
   "execution_count": null,
   "id": "resistant-upset",
   "metadata": {},
   "outputs": [],
   "source": []
  },
  {
   "cell_type": "code",
   "execution_count": 20,
   "id": "engaging-demographic",
   "metadata": {},
   "outputs": [
    {
     "name": "stdout",
     "output_type": "stream",
     "text": [
      "CPU times: user 25.3 s, sys: 926 ms, total: 26.3 s\n",
      "Wall time: 31.8 s\n"
     ]
    }
   ],
   "source": [
    "%%time\n",
    "\n",
    "stitched_file_df = pd.concat([pd.read_csv(f) for f in files], ignore_index=True)\n",
    "stitched_file_df.to_csv(\"stitched.csv\", index=False)"
   ]
  },
  {
   "cell_type": "code",
   "execution_count": null,
   "id": "planned-inclusion",
   "metadata": {},
   "outputs": [],
   "source": []
  },
  {
   "cell_type": "code",
   "execution_count": 40,
   "id": "affecting-stupid",
   "metadata": {},
   "outputs": [],
   "source": [
    "import csv\n",
    "\n",
    "header_saved = False\n",
    "with open('../data/house-prices/stitched.csv', 'w') as fout:\n",
    "    #writer = csv.writer(fout, delimiter=',',quoting=csv.QUOTE_MINIMAL,lineterminator='\\r')\n",
    "    for filename in files:\n",
    "        with open(filename,'r') as fin:\n",
    "            header =  next(fin)\n",
    "            if not header_saved:\n",
    "                fout.write(header)\n",
    "                header_saved = True\n",
    "            for line in fin.readlines():\n",
    "                fout.write(line)"
   ]
  },
  {
   "cell_type": "code",
   "execution_count": null,
   "id": "bridal-religion",
   "metadata": {},
   "outputs": [],
   "source": []
  }
 ],
 "metadata": {
  "kernelspec": {
   "display_name": "Python 3",
   "language": "python",
   "name": "python3"
  },
  "language_info": {
   "codemirror_mode": {
    "name": "ipython",
    "version": 3
   },
   "file_extension": ".py",
   "mimetype": "text/x-python",
   "name": "python",
   "nbconvert_exporter": "python",
   "pygments_lexer": "ipython3",
   "version": "3.6.8"
  }
 },
 "nbformat": 4,
 "nbformat_minor": 5
}
