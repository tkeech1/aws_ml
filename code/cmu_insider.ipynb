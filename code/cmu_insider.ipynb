{
 "cells": [
  {
   "cell_type": "code",
   "execution_count": null,
   "metadata": {},
   "outputs": [],
   "source": [
    "import pandas as pd\n",
    "import numpy as np\n",
    "from datetime import datetime"
   ]
  },
  {
   "cell_type": "code",
   "execution_count": null,
   "metadata": {},
   "outputs": [],
   "source": [
    "dateparse = lambda x: datetime.strptime(x, '%m/%d/%Y %H:%M:%S')\n",
    "usecols = [\"id\", \"date\", \"user\", \"pc\", \"activity\"]\n",
    "logon_df = pd.read_csv('../data/r2/logon_test.csv', parse_dates=['date'], date_parser=dateparse, usecols=usecols)\n",
    "logon_df = logon_df.set_index('date').sort_index(axis=0)"
   ]
  },
  {
   "cell_type": "code",
   "execution_count": null,
   "metadata": {},
   "outputs": [],
   "source": [
    "logon_df.info(memory_usage='deep')"
   ]
  },
  {
   "cell_type": "code",
   "execution_count": null,
   "metadata": {},
   "outputs": [],
   "source": [
    "logon_df.head(10)"
   ]
  },
  {
   "cell_type": "code",
   "execution_count": null,
   "metadata": {},
   "outputs": [],
   "source": [
    "# filter the data to a specific date range\n",
    "logon_df = logon_df['2010-01-01':'2010-02-04']"
   ]
  },
  {
   "cell_type": "code",
   "execution_count": null,
   "metadata": {},
   "outputs": [],
   "source": [
    "# show the number of distinct users in the data set\n",
    "len(logon_df['user'].unique())"
   ]
  },
  {
   "cell_type": "markdown",
   "metadata": {},
   "source": [
    "1. User who did not previously use removable drives or work after\n",
    "hours begins logging in after hours, using a removable drive, and\n",
    "uploading data to wikileaks.org. Leaves the organization shortly\n",
    "thereafter."
   ]
  },
  {
   "cell_type": "code",
   "execution_count": null,
   "metadata": {},
   "outputs": [],
   "source": [
    "# create a field for the hour of the day\n",
    "logon_df['hour'] = logon_df.index.hour\n",
    "logon_df.head()"
   ]
  },
  {
   "cell_type": "code",
   "execution_count": null,
   "metadata": {},
   "outputs": [],
   "source": [
    "# TODO - how to get zero for a date/hour that has no observations?\n",
    "# TODO - exclude all but the last 30-days from current day (drop older records, or use window?)\n",
    "\n",
    "# group the data by user, hour and activity and resample/sum on a daily basis\n",
    "# results in a df that shows the count of logons/logoffs for each user, hour for each day\n",
    "logon_resampled_df = logon_df.groupby(['user','hour'], sort=False).resample('D').count()[['id']]\n",
    "logon_resampled_df = logon_resampled_df.rename(columns={'id': 'login_count'})"
   ]
  },
  {
   "cell_type": "code",
   "execution_count": null,
   "metadata": {},
   "outputs": [],
   "source": [
    "# find the median login count for each user, hour combination\n",
    "logon_resampled_df['median_login_count'] = logon_resampled_df.groupby(['user','hour'], sort=False).login_count.median()\n",
    "logon_resampled_df.head(30)"
   ]
  },
  {
   "cell_type": "code",
   "execution_count": null,
   "metadata": {},
   "outputs": [],
   "source": [
    "# calculate the absolute deviation\n",
    "logon_resampled_df['abs_dev'] = abs(logon_resampled_df['median_login_count'] - logon_resampled_df['login_count'])\n",
    "logon_resampled_df.head(30)"
   ]
  },
  {
   "cell_type": "code",
   "execution_count": null,
   "metadata": {},
   "outputs": [],
   "source": [
    "# calculate the median absolute deviation\n",
    "logon_resampled_df['median_abs_dev'] = logon_resampled_df.groupby(['user','hour'], sort=False).abs_dev.median()\n",
    "logon_resampled_df.head(30)"
   ]
  },
  {
   "cell_type": "code",
   "execution_count": null,
   "metadata": {},
   "outputs": [],
   "source": [
    "# calcuate the lower bound and upper bound\n",
    "multiplier = 9 \n",
    "logon_resampled_df['lower_bound'] = logon_resampled_df['median_login_count'] - (logon_resampled_df['median_abs_dev'] * multiplier)\n",
    "\n",
    "logon_resampled_df['upper_bound'] = logon_resampled_df['median_login_count'] + (logon_resampled_df['median_abs_dev'] * multiplier)\n",
    "\n",
    "logon_resampled_df.head(30)"
   ]
  },
  {
   "cell_type": "code",
   "execution_count": null,
   "metadata": {},
   "outputs": [],
   "source": [
    "# calculate the outliers\n",
    "logon_resampled_df['outlier'] = np.where(logon_resampled_df['login_count'] < logon_resampled_df['lower_bound'] , 1, \n",
    "                                         np.where(logon_resampled_df['login_count'] > logon_resampled_df['upper_bound'], 1, 0))\n",
    "logon_resampled_df.head(30)"
   ]
  },
  {
   "cell_type": "code",
   "execution_count": null,
   "metadata": {},
   "outputs": [],
   "source": [
    "logon_resampled_df[logon_resampled_df['outlier'] == 1].index.get_level_values(0).unique()"
   ]
  },
  {
   "cell_type": "code",
   "execution_count": null,
   "metadata": {},
   "outputs": [],
   "source": []
  },
  {
   "cell_type": "code",
   "execution_count": null,
   "metadata": {},
   "outputs": [],
   "source": []
  },
  {
   "cell_type": "code",
   "execution_count": null,
   "metadata": {},
   "outputs": [],
   "source": []
  },
  {
   "cell_type": "code",
   "execution_count": null,
   "metadata": {},
   "outputs": [],
   "source": [
    "# removed the leveled index that was set by the group_by\n",
    "logon_resampled_df = logon_resampled_df.reset_index()\n",
    "logon_resampled_df = logon_resampled_df.set_index('date').sort_index(axis=0)\n",
    "#logon_resampled_df.head(100)"
   ]
  },
  {
   "cell_type": "code",
   "execution_count": null,
   "metadata": {},
   "outputs": [],
   "source": [
    "period = 2\n",
    "min_periods = period\n",
    "\n",
    "# calculate the mean number of logins for each hour over the last period days\n",
    "#user_hour_df = logon_resampled_df.groupby(['user','hour','activity']).rolling(period, min_periods=min_periods)[['daily_count']].mean()\n",
    "user_hour_df.head(30)"
   ]
  },
  {
   "cell_type": "code",
   "execution_count": null,
   "metadata": {},
   "outputs": [],
   "source": [
    "user_hour_df = user_hour_df.reset_index()\n",
    "user_hour_df = user_hour_df.set_index('date').sort_index(axis=0)\n",
    "user_hour_df.head()"
   ]
  },
  {
   "cell_type": "markdown",
   "metadata": {},
   "source": [
    "2. User begins surfing job websites and soliciting employment from a\n",
    "competitor. Before leaving the company, they use a thumb drive (at\n",
    "markedly higher rates than their previous activity) to steal data."
   ]
  },
  {
   "cell_type": "code",
   "execution_count": null,
   "metadata": {},
   "outputs": [],
   "source": []
  },
  {
   "cell_type": "markdown",
   "metadata": {},
   "source": [
    "3. System administrator becomes disgruntled. Downloads a keylogger and\n",
    "uses a thumb drive to transfer it to his supervisor's machine. The\n",
    "next day, he uses the collected keylogs to log in as his supervisor\n",
    "and send out an alarming mass email, causing panic in the\n",
    "organization. He leaves the organization immediately."
   ]
  },
  {
   "cell_type": "code",
   "execution_count": null,
   "metadata": {},
   "outputs": [],
   "source": []
  },
  {
   "cell_type": "markdown",
   "metadata": {},
   "source": [
    "4. A user logs into another user's machine and searches for\n",
    "interesting files, emailing to their home email. This behavior occurs\n",
    "more and more frequently over a 3 month period."
   ]
  },
  {
   "cell_type": "code",
   "execution_count": null,
   "metadata": {},
   "outputs": [],
   "source": []
  },
  {
   "cell_type": "markdown",
   "metadata": {},
   "source": [
    "5. A member of a group decimated by layoffs uploads documents to\n",
    "Dropbox, planning to use them for personal gain."
   ]
  },
  {
   "cell_type": "code",
   "execution_count": null,
   "metadata": {},
   "outputs": [],
   "source": []
  }
 ],
 "metadata": {
  "kernelspec": {
   "display_name": "Python 3",
   "language": "python",
   "name": "python3"
  },
  "language_info": {
   "codemirror_mode": {
    "name": "ipython",
    "version": 3
   },
   "file_extension": ".py",
   "mimetype": "text/x-python",
   "name": "python",
   "nbconvert_exporter": "python",
   "pygments_lexer": "ipython3",
   "version": "3.6.8"
  }
 },
 "nbformat": 4,
 "nbformat_minor": 4
}
