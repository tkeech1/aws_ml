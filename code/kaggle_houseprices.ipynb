{
 "cells": [
  {
   "cell_type": "code",
   "execution_count": null,
   "metadata": {},
   "outputs": [],
   "source": [
    "# https://www.kaggle.com/c/house-prices-advanced-regression-techniques/data"
   ]
  },
  {
   "cell_type": "code",
   "execution_count": null,
   "metadata": {},
   "outputs": [],
   "source": [
    "import pandas as pd\n",
    "import numpy as np\n",
    "pd.set_option('display.width', 5000)"
   ]
  },
  {
   "cell_type": "code",
   "execution_count": null,
   "metadata": {},
   "outputs": [],
   "source": [
    "col_dtypes = {\n",
    "    #'client_id': np.int64,\n",
    "    #'loan_type': str\n",
    "}\n",
    "#dateparse = lambda x: pd.datetime.strptime(x, '%Y-%m-%d')\n",
    "\n",
    "train = pd.read_csv(\"../data/house-prices/train.csv\",delimiter=\",\")\n",
    "sub = pd.read_csv(\"../data/house-prices/test.csv\",delimiter=\",\")#,parse_dates=['loan_start','loan_end'], date_parser=dateparse, dtype=loans_dtypes)"
   ]
  },
  {
   "cell_type": "code",
   "execution_count": null,
   "metadata": {},
   "outputs": [],
   "source": [
    "sub.info(memory_usage='deep')"
   ]
  },
  {
   "cell_type": "code",
   "execution_count": null,
   "metadata": {},
   "outputs": [],
   "source": [
    "# use some automl\n",
    "import h2o\n",
    "h2o.init()"
   ]
  },
  {
   "cell_type": "code",
   "execution_count": null,
   "metadata": {},
   "outputs": [],
   "source": [
    "# Load a pandas data frame to H2O\n",
    "hf = h2o.H2OFrame(train)\n",
    "hf_sub = h2o.H2OFrame(sub)"
   ]
  },
  {
   "cell_type": "code",
   "execution_count": null,
   "metadata": {},
   "outputs": [],
   "source": [
    "x = hf.names\n",
    "x.remove(\"SalePrice\")\n",
    "Y = \"SalePrice\""
   ]
  },
  {
   "cell_type": "code",
   "execution_count": null,
   "metadata": {},
   "outputs": [],
   "source": [
    "train, test = hf.split_frame([0.7], seed=42)"
   ]
  },
  {
   "cell_type": "code",
   "execution_count": null,
   "metadata": {},
   "outputs": [],
   "source": [
    "from h2o.estimators.xgboost import H2OXGBoostEstimator\n",
    "xgb = H2OXGBoostEstimator(nfolds=10, seed=1)\n",
    "xgb.train(x=x, y=Y, training_frame=train,\n",
    "         validation_frame=test)\n",
    "\n",
    "print(xgb)"
   ]
  },
  {
   "cell_type": "code",
   "execution_count": null,
   "metadata": {},
   "outputs": [],
   "source": [
    "# Grid Search\n",
    "from h2o.grid.grid_search import H2OGridSearch\n",
    "\n",
    "xgb_parameters = {'max_depth': [3, 4, 5, 6],\n",
    "                  'sample_rate': [0.7, 0.8],\n",
    "                  'col_sample_rate': [0.7, 0.8],\n",
    "                  'ntrees': [200, 300, 400]}\n",
    "\n",
    "xgb_grid_search = H2OGridSearch(model=H2OXGBoostEstimator,\n",
    "                                grid_id='example_grid',\n",
    "                                hyper_params=xgb_parameters)\n",
    "\n",
    "xgb_grid_search.train(x=x,\n",
    "                      y=Y,\n",
    "                      training_frame=train,\n",
    "                      validation_frame=test,\n",
    "                      nfolds = 10,\n",
    "                      learn_rate=0.01,\n",
    "                      seed=42)"
   ]
  },
  {
   "cell_type": "code",
   "execution_count": null,
   "metadata": {},
   "outputs": [],
   "source": [
    "grid_results = xgb_grid_search.get_grid(sort_by='rmse',\n",
    "                                        decreasing=False)\n",
    "print(grid_results)"
   ]
  },
  {
   "cell_type": "code",
   "execution_count": null,
   "metadata": {},
   "outputs": [],
   "source": [
    "xgb = grid_results.models[0]\n",
    "\n",
    "preds = xgb.predict(hf_sub)"
   ]
  },
  {
   "cell_type": "code",
   "execution_count": null,
   "metadata": {},
   "outputs": [],
   "source": [
    "from h2o.automl import H2OAutoML\n",
    "autoML = H2OAutoML(max_runtime_secs=3600, \n",
    "            nfolds = 10,            \n",
    "            stopping_metric = 'RMSE',\n",
    "            sort_metric = 'RMSE',\n",
    "            exclude_algos=['DRF','GLM'],\n",
    "        )\n",
    "\n",
    "autoML.train(x=x,\n",
    "             y=Y,\n",
    "             training_frame=train,\n",
    "             validation_frame=test,\n",
    "        )\n",
    "\n",
    "print(autoML.leaderboard)"
   ]
  },
  {
   "cell_type": "code",
   "execution_count": null,
   "metadata": {},
   "outputs": [],
   "source": [
    "import h2o\n",
    "\n",
    "preds = autoML.leader.predict(hf_sub)"
   ]
  },
  {
   "cell_type": "code",
   "execution_count": null,
   "metadata": {},
   "outputs": [],
   "source": [
    "submission = hf_sub['Id']"
   ]
  },
  {
   "cell_type": "code",
   "execution_count": null,
   "metadata": {},
   "outputs": [],
   "source": [
    "submission['SalePrice'] = preds"
   ]
  },
  {
   "cell_type": "code",
   "execution_count": null,
   "metadata": {},
   "outputs": [],
   "source": [
    "h2o.h2o.download_csv(submission, \"../data/house-prices/submission.csv\")"
   ]
  },
  {
   "cell_type": "code",
   "execution_count": null,
   "metadata": {},
   "outputs": [],
   "source": []
  }
 ],
 "metadata": {
  "kernelspec": {
   "display_name": "Python 3",
   "language": "python",
   "name": "python3"
  },
  "language_info": {
   "codemirror_mode": {
    "name": "ipython",
    "version": 3
   },
   "file_extension": ".py",
   "mimetype": "text/x-python",
   "name": "python",
   "nbconvert_exporter": "python",
   "pygments_lexer": "ipython3",
   "version": "3.6.8"
  }
 },
 "nbformat": 4,
 "nbformat_minor": 4
}
